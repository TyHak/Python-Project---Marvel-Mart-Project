{
 "cells": [
  {
   "cell_type": "markdown",
   "id": "23fb0ab6-5129-41e9-a11e-99c9a0b0113d",
   "metadata": {},
   "source": [
    "# Python Project - Marvel Mart Project\n"
   ]
  },
  {
   "cell_type": "markdown",
   "id": "b51f0c71-4f6e-4879-bb72-5a7cfc75f86f",
   "metadata": {},
   "source": [
    "## Ty Hak\n"
   ]
  },
  {
   "cell_type": "markdown",
   "id": "61700e15-55c6-4778-9870-cb1ffb4c062f",
   "metadata": {},
   "source": [
    "### March 7th 2022"
   ]
  },
  {
   "cell_type": "code",
   "execution_count": 328,
   "id": "b02b693f-4f5d-4e2a-92a7-7c2a754f4d13",
   "metadata": {},
   "outputs": [],
   "source": [
    "import csv \n",
    "from itertools import zip_longest\n",
    "import warnings \n",
    "warnings.filterwarnings('ignore')\n",
    "import numpy as np \n",
    "import pandas as pd \n",
    "import seaborn as sns \n",
    "import matplotlib.pyplot as plt\n",
    "pd.set_option('display.float_format', lambda x: '%.3f' % x)"
   ]
  },
  {
   "cell_type": "markdown",
   "id": "a274ab4c-45ca-49fe-9e7e-78b091cb0a02",
   "metadata": {},
   "source": [
    "## Part 1: Cleaning the data"
   ]
  },
  {
   "cell_type": "code",
   "execution_count": 329,
   "id": "92391b80-0966-481c-88c7-e9bbb9aab502",
   "metadata": {},
   "outputs": [],
   "source": [
    "# Before doing anything, we need to read the csv file first so that we can clean the data.\n",
    "\n",
    "salePrice = pd.read_csv('Data/MM_Sales.csv')"
   ]
  },
  {
   "cell_type": "code",
   "execution_count": 330,
   "id": "d5842041-cd77-41a1-b65a-b70692b8ee1b",
   "metadata": {},
   "outputs": [
    {
     "data": {
      "text/html": [
       "<div>\n",
       "<style scoped>\n",
       "    .dataframe tbody tr th:only-of-type {\n",
       "        vertical-align: middle;\n",
       "    }\n",
       "\n",
       "    .dataframe tbody tr th {\n",
       "        vertical-align: top;\n",
       "    }\n",
       "\n",
       "    .dataframe thead th {\n",
       "        text-align: right;\n",
       "    }\n",
       "</style>\n",
       "<table border=\"1\" class=\"dataframe\">\n",
       "  <thead>\n",
       "    <tr style=\"text-align: right;\">\n",
       "      <th></th>\n",
       "      <th>Region</th>\n",
       "      <th>Country</th>\n",
       "      <th>Item Type</th>\n",
       "      <th>Sales Channel</th>\n",
       "      <th>Order Priority</th>\n",
       "      <th>Order Date</th>\n",
       "      <th>Order ID</th>\n",
       "      <th>Ship Date</th>\n",
       "      <th>Units Sold</th>\n",
       "      <th>Unit Price</th>\n",
       "      <th>Unit Cost</th>\n",
       "      <th>Total Revenue</th>\n",
       "      <th>Total Cost</th>\n",
       "      <th>Total Profit</th>\n",
       "    </tr>\n",
       "  </thead>\n",
       "  <tbody>\n",
       "    <tr>\n",
       "      <th>0</th>\n",
       "      <td>Sub-Saharan Africa</td>\n",
       "      <td>Namibia</td>\n",
       "      <td>Household</td>\n",
       "      <td>Offline</td>\n",
       "      <td>M</td>\n",
       "      <td>8/31/15</td>\n",
       "      <td>897751939</td>\n",
       "      <td>10/12/15</td>\n",
       "      <td>3604</td>\n",
       "      <td>668.270</td>\n",
       "      <td>502.540</td>\n",
       "      <td>2408445.080</td>\n",
       "      <td>1811154.160</td>\n",
       "      <td>597290.920</td>\n",
       "    </tr>\n",
       "    <tr>\n",
       "      <th>1</th>\n",
       "      <td>Europe</td>\n",
       "      <td>Iceland</td>\n",
       "      <td>Baby Food</td>\n",
       "      <td>Offline</td>\n",
       "      <td>L</td>\n",
       "      <td>11/20/10</td>\n",
       "      <td>599480426</td>\n",
       "      <td>1/9/11</td>\n",
       "      <td>8435</td>\n",
       "      <td>255.280</td>\n",
       "      <td>159.420</td>\n",
       "      <td>2153286.800</td>\n",
       "      <td>1344707.700</td>\n",
       "      <td>808579.100</td>\n",
       "    </tr>\n",
       "    <tr>\n",
       "      <th>2</th>\n",
       "      <td>Europe</td>\n",
       "      <td>Russia</td>\n",
       "      <td>Meat</td>\n",
       "      <td>Online</td>\n",
       "      <td>L</td>\n",
       "      <td>6/22/17</td>\n",
       "      <td>538911855</td>\n",
       "      <td>6/25/17</td>\n",
       "      <td>4848</td>\n",
       "      <td>421.890</td>\n",
       "      <td>364.690</td>\n",
       "      <td>2045322.720</td>\n",
       "      <td>1768017.120</td>\n",
       "      <td>277305.600</td>\n",
       "    </tr>\n",
       "    <tr>\n",
       "      <th>3</th>\n",
       "      <td>Europe</td>\n",
       "      <td>Moldova</td>\n",
       "      <td>Meat</td>\n",
       "      <td>Online</td>\n",
       "      <td>L</td>\n",
       "      <td>2/28/12</td>\n",
       "      <td>459845054</td>\n",
       "      <td>3/20/12</td>\n",
       "      <td>7225</td>\n",
       "      <td>421.890</td>\n",
       "      <td>364.690</td>\n",
       "      <td>3048155.250</td>\n",
       "      <td>2634885.250</td>\n",
       "      <td>413270.000</td>\n",
       "    </tr>\n",
       "    <tr>\n",
       "      <th>4</th>\n",
       "      <td>Europe</td>\n",
       "      <td>Malta</td>\n",
       "      <td>Cereal</td>\n",
       "      <td>Online</td>\n",
       "      <td>H</td>\n",
       "      <td>8/12/10</td>\n",
       "      <td>626391351</td>\n",
       "      <td>9/13/10</td>\n",
       "      <td>1975</td>\n",
       "      <td>205.700</td>\n",
       "      <td>117.110</td>\n",
       "      <td>406257.500</td>\n",
       "      <td>231292.250</td>\n",
       "      <td>174965.250</td>\n",
       "    </tr>\n",
       "    <tr>\n",
       "      <th>...</th>\n",
       "      <td>...</td>\n",
       "      <td>...</td>\n",
       "      <td>...</td>\n",
       "      <td>...</td>\n",
       "      <td>...</td>\n",
       "      <td>...</td>\n",
       "      <td>...</td>\n",
       "      <td>...</td>\n",
       "      <td>...</td>\n",
       "      <td>...</td>\n",
       "      <td>...</td>\n",
       "      <td>...</td>\n",
       "      <td>...</td>\n",
       "      <td>...</td>\n",
       "    </tr>\n",
       "    <tr>\n",
       "      <th>49995</th>\n",
       "      <td>Central America and the Caribbean</td>\n",
       "      <td>Dominican Republic</td>\n",
       "      <td>Baby Food</td>\n",
       "      <td>Online</td>\n",
       "      <td>L</td>\n",
       "      <td>2/12/15</td>\n",
       "      <td>350891578</td>\n",
       "      <td>3/15/15</td>\n",
       "      <td>5470</td>\n",
       "      <td>255.280</td>\n",
       "      <td>159.420</td>\n",
       "      <td>1396381.600</td>\n",
       "      <td>872027.400</td>\n",
       "      <td>524354.200</td>\n",
       "    </tr>\n",
       "    <tr>\n",
       "      <th>49996</th>\n",
       "      <td>Central America and the Caribbean</td>\n",
       "      <td>Cuba</td>\n",
       "      <td>Office Supplies</td>\n",
       "      <td>Online</td>\n",
       "      <td>H</td>\n",
       "      <td>3/28/13</td>\n",
       "      <td>748260629</td>\n",
       "      <td>5/3/13</td>\n",
       "      <td>5803</td>\n",
       "      <td>651.210</td>\n",
       "      <td>524.960</td>\n",
       "      <td>3778971.630</td>\n",
       "      <td>3046342.880</td>\n",
       "      <td>732628.750</td>\n",
       "    </tr>\n",
       "    <tr>\n",
       "      <th>49997</th>\n",
       "      <td>Asia</td>\n",
       "      <td>Vietnam</td>\n",
       "      <td>Personal Care</td>\n",
       "      <td>Online</td>\n",
       "      <td>M</td>\n",
       "      <td>11/11/16</td>\n",
       "      <td>322932231</td>\n",
       "      <td>12/18/16</td>\n",
       "      <td>1678</td>\n",
       "      <td>81.730</td>\n",
       "      <td>56.670</td>\n",
       "      <td>137142.940</td>\n",
       "      <td>95092.260</td>\n",
       "      <td>42050.680</td>\n",
       "    </tr>\n",
       "    <tr>\n",
       "      <th>49998</th>\n",
       "      <td>Sub-Saharan Africa</td>\n",
       "      <td>Sierra Leone</td>\n",
       "      <td>Clothes</td>\n",
       "      <td>Offline</td>\n",
       "      <td>M</td>\n",
       "      <td>8/28/10</td>\n",
       "      <td>492142713</td>\n",
       "      <td>9/21/10</td>\n",
       "      <td>4820</td>\n",
       "      <td>109.280</td>\n",
       "      <td>35.840</td>\n",
       "      <td>526729.600</td>\n",
       "      <td>172748.800</td>\n",
       "      <td>353980.800</td>\n",
       "    </tr>\n",
       "    <tr>\n",
       "      <th>49999</th>\n",
       "      <td>Sub-Saharan Africa</td>\n",
       "      <td>Eritrea</td>\n",
       "      <td>Vegetables</td>\n",
       "      <td>Offline</td>\n",
       "      <td>C</td>\n",
       "      <td>6/5/14</td>\n",
       "      <td>943440902</td>\n",
       "      <td>6/30/14</td>\n",
       "      <td>3983</td>\n",
       "      <td>154.060</td>\n",
       "      <td>90.930</td>\n",
       "      <td>613620.980</td>\n",
       "      <td>362174.190</td>\n",
       "      <td>251446.790</td>\n",
       "    </tr>\n",
       "  </tbody>\n",
       "</table>\n",
       "<p>50000 rows × 14 columns</p>\n",
       "</div>"
      ],
      "text/plain": [
       "                                  Region             Country        Item Type  \\\n",
       "0                     Sub-Saharan Africa             Namibia        Household   \n",
       "1                                 Europe             Iceland        Baby Food   \n",
       "2                                 Europe              Russia             Meat   \n",
       "3                                 Europe            Moldova              Meat   \n",
       "4                                 Europe               Malta           Cereal   \n",
       "...                                  ...                 ...              ...   \n",
       "49995  Central America and the Caribbean  Dominican Republic        Baby Food   \n",
       "49996  Central America and the Caribbean                Cuba  Office Supplies   \n",
       "49997                               Asia             Vietnam    Personal Care   \n",
       "49998                 Sub-Saharan Africa        Sierra Leone          Clothes   \n",
       "49999                 Sub-Saharan Africa             Eritrea       Vegetables   \n",
       "\n",
       "      Sales Channel Order Priority Order Date   Order ID Ship Date  \\\n",
       "0           Offline              M    8/31/15  897751939  10/12/15   \n",
       "1           Offline              L   11/20/10  599480426    1/9/11   \n",
       "2            Online              L    6/22/17  538911855   6/25/17   \n",
       "3            Online              L    2/28/12  459845054   3/20/12   \n",
       "4            Online              H    8/12/10  626391351   9/13/10   \n",
       "...             ...            ...        ...        ...       ...   \n",
       "49995        Online              L    2/12/15  350891578   3/15/15   \n",
       "49996        Online              H    3/28/13  748260629    5/3/13   \n",
       "49997        Online              M   11/11/16  322932231  12/18/16   \n",
       "49998       Offline              M    8/28/10  492142713   9/21/10   \n",
       "49999       Offline              C     6/5/14  943440902   6/30/14   \n",
       "\n",
       "       Units Sold  Unit Price  Unit Cost  Total Revenue  Total Cost  \\\n",
       "0            3604     668.270    502.540    2408445.080 1811154.160   \n",
       "1            8435     255.280    159.420    2153286.800 1344707.700   \n",
       "2            4848     421.890    364.690    2045322.720 1768017.120   \n",
       "3            7225     421.890    364.690    3048155.250 2634885.250   \n",
       "4            1975     205.700    117.110     406257.500  231292.250   \n",
       "...           ...         ...        ...            ...         ...   \n",
       "49995        5470     255.280    159.420    1396381.600  872027.400   \n",
       "49996        5803     651.210    524.960    3778971.630 3046342.880   \n",
       "49997        1678      81.730     56.670     137142.940   95092.260   \n",
       "49998        4820     109.280     35.840     526729.600  172748.800   \n",
       "49999        3983     154.060     90.930     613620.980  362174.190   \n",
       "\n",
       "       Total Profit  \n",
       "0        597290.920  \n",
       "1        808579.100  \n",
       "2        277305.600  \n",
       "3        413270.000  \n",
       "4        174965.250  \n",
       "...             ...  \n",
       "49995    524354.200  \n",
       "49996    732628.750  \n",
       "49997     42050.680  \n",
       "49998    353980.800  \n",
       "49999    251446.790  \n",
       "\n",
       "[50000 rows x 14 columns]"
      ]
     },
     "execution_count": 330,
     "metadata": {},
     "output_type": "execute_result"
    }
   ],
   "source": [
    "salePrice"
   ]
  },
  {
   "cell_type": "code",
   "execution_count": 331,
   "id": "e2213835-b8c4-4765-afc2-437a864fa497",
   "metadata": {},
   "outputs": [
    {
     "data": {
      "text/plain": [
       "(50000, 14)"
      ]
     },
     "execution_count": 331,
     "metadata": {},
     "output_type": "execute_result"
    }
   ],
   "source": [
    "# To find how many columns and rows I need to use the function 'shape'\n",
    "\n",
    "salePrice.shape"
   ]
  },
  {
   "cell_type": "code",
   "execution_count": 332,
   "id": "43991310-7586-4c7f-afff-8dc7cad2f45b",
   "metadata": {},
   "outputs": [
    {
     "name": "stdout",
     "output_type": "stream",
     "text": [
      "Region             object\n",
      "Country            object\n",
      "Item Type          object\n",
      "Sales Channel      object\n",
      "Order Priority     object\n",
      "Order Date         object\n",
      "Order ID           object\n",
      "Ship Date          object\n",
      "Units Sold          int64\n",
      "Unit Price        float64\n",
      "Unit Cost         float64\n",
      "Total Revenue     float64\n",
      "Total Cost        float64\n",
      "Total Profit      float64\n",
      "dtype: object\n"
     ]
    }
   ],
   "source": [
    "# This is where we find out what type of data in each columns\n",
    "# You can see that some are objects, interger and float numbers contain in the data. \n",
    "\n",
    "print(salePrice.dtypes)"
   ]
  },
  {
   "cell_type": "code",
   "execution_count": 333,
   "id": "2acebe10-df1a-4ea7-b995-49fc526324c5",
   "metadata": {},
   "outputs": [
    {
     "data": {
      "text/plain": [
       "Region             0\n",
       "Country            0\n",
       "Item Type          6\n",
       "Sales Channel      0\n",
       "Order Priority    15\n",
       "Order Date         0\n",
       "Order ID           0\n",
       "Ship Date          0\n",
       "Units Sold         0\n",
       "Unit Price         0\n",
       "Unit Cost          0\n",
       "Total Revenue      0\n",
       "Total Cost         0\n",
       "Total Profit       0\n",
       "dtype: int64"
      ]
     },
     "execution_count": 333,
     "metadata": {},
     "output_type": "execute_result"
    }
   ],
   "source": [
    "# This is where I find the data that is missing.\n",
    "# You can see that 'Order priority' is missing and also 'Item Type'. \n",
    "\n",
    "salePrice.isna().sum()\n"
   ]
  },
  {
   "cell_type": "code",
   "execution_count": 334,
   "id": "b7ea32db-3b07-48f8-ba2a-d558ae635972",
   "metadata": {},
   "outputs": [],
   "source": [
    "# We have to create copy of our dataframe. \n",
    "# Which mean creating a copy of a clean dataframe.\n",
    "\n",
    "CleanSP = salePrice.copy()"
   ]
  },
  {
   "cell_type": "code",
   "execution_count": 335,
   "id": "01e7fee5-a1ec-4bf7-bb7c-84abb230b468",
   "metadata": {},
   "outputs": [
    {
     "data": {
      "text/plain": [
       "Region            0\n",
       "Country           0\n",
       "Item Type         6\n",
       "Sales Channel     0\n",
       "Order Priority    0\n",
       "Order Date        0\n",
       "Order ID          0\n",
       "Ship Date         0\n",
       "Units Sold        0\n",
       "Unit Price        0\n",
       "Unit Cost         0\n",
       "Total Revenue     0\n",
       "Total Cost        0\n",
       "Total Profit      0\n",
       "dtype: int64"
      ]
     },
     "execution_count": 335,
     "metadata": {},
     "output_type": "execute_result"
    }
   ],
   "source": [
    "# 1. Testing if I have replaced the missing data with 0 on 'Order prioirity'.\n",
    "# So I have replaced the missing with null.\n",
    "\n",
    "CleanSP['Order Priority'].fillna('NULL', inplace=True) \n",
    "CleanSP.isna().sum()"
   ]
  },
  {
   "cell_type": "code",
   "execution_count": 336,
   "id": "5d5a2715-eb63-44ed-901b-9ff193430a9a",
   "metadata": {},
   "outputs": [
    {
     "name": "stdout",
     "output_type": "stream",
     "text": [
      "0\n"
     ]
    }
   ],
   "source": [
    "# Order Priority (either missing AND/OR won't be a valid priority code of 'C', 'H', 'M', 'L', or 'NULL')\n",
    "# So I loop throught Order priority rows and if its missing. \n",
    "\n",
    "count = 0\n",
    "for index, row in CleanSP.iterrows():\n",
    "    if row.loc['Order Priority'] not in ['C', 'H', 'M', 'L', 'NULL']:\n",
    "        CleanSP.loc['Order Priority'] = 'NULL'\n",
    "        print(row.loc['Order Priority'])\n",
    "        count += 1\n",
    "print(count)"
   ]
  },
  {
   "cell_type": "code",
   "execution_count": 337,
   "id": "c2bc31de-713d-47f6-9823-e79a0ccfa66a",
   "metadata": {},
   "outputs": [
    {
     "name": "stdout",
     "output_type": "stream",
     "text": [
      "Region            49985\n",
      "Country           49985\n",
      "Item Type         49979\n",
      "Sales Channel     49985\n",
      "Order Priority    49985\n",
      "Order Date        49985\n",
      "Order ID          49985\n",
      "Ship Date         49985\n",
      "Units Sold        49985\n",
      "Unit Price        49985\n",
      "Unit Cost         49985\n",
      "Total Revenue     49985\n",
      "Total Cost        49985\n",
      "Total Profit      49985\n",
      "dtype: int64\n"
     ]
    }
   ],
   "source": [
    "# To turn in a clean version, I need to remove data that are in 'Order Priority' that are NULL. \n",
    "\n",
    "CleanSP = CleanSP[CleanSP['Order Priority'] != \"NULL\"]\n",
    "print(CleanSP.count())"
   ]
  },
  {
   "cell_type": "code",
   "execution_count": 338,
   "id": "f88daa6c-fc97-4798-91b9-7c12060fedc5",
   "metadata": {},
   "outputs": [
    {
     "data": {
      "text/plain": [
       "Region            0\n",
       "Country           0\n",
       "Item Type         0\n",
       "Sales Channel     0\n",
       "Order Priority    0\n",
       "Order Date        0\n",
       "Order ID          0\n",
       "Ship Date         0\n",
       "Units Sold        0\n",
       "Unit Price        0\n",
       "Unit Cost         0\n",
       "Total Revenue     0\n",
       "Total Cost        0\n",
       "Total Profit      0\n",
       "dtype: int64"
      ]
     },
     "execution_count": 338,
     "metadata": {},
     "output_type": "execute_result"
    }
   ],
   "source": [
    "# 2. Now we have to replace NULL on 'Item Type' because it is missing. \n",
    "# It is now a clean version because I have replace with null. \n",
    "# The data are now in a clean version since the result is all 0.\n",
    "\n",
    "CleanSP['Item Type'].fillna('NULL', inplace=True)\n",
    "CleanSP.isna().sum()"
   ]
  },
  {
   "cell_type": "code",
   "execution_count": 339,
   "id": "5eddab97-a0fc-4afb-91fd-a148e0464600",
   "metadata": {},
   "outputs": [
    {
     "name": "stdout",
     "output_type": "stream",
     "text": [
      "['Household' 'Baby Food' 'Meat' 'Cereal' 'Cosmetics' 'Fruits' 'NULL'\n",
      " 'Vegetables' 'Office Supplies' 'Personal Care' 'Beverages' 'Snacks'\n",
      " 'Clothes']\n",
      "0\n"
     ]
    }
   ],
   "source": [
    "# Creating a list with a unique items types which I used 'for loop' so that I can check every column. \n",
    "# As of result, there are no invalid in the items types column. \n",
    "\n",
    "un = CleanSP['Item Type'].unique()\n",
    "print(un)\n",
    "\n",
    "x = 0\n",
    "for index, row in CleanSP.iterrows():\n",
    "    if row.loc['Item Type'] not in (un):\n",
    "        CleanSP.loc['Item Type'] = 'NULL'\n",
    "        print(row.loc['Item Type'])\n",
    "        x += 1\n",
    "print(x)"
   ]
  },
  {
   "cell_type": "code",
   "execution_count": 340,
   "id": "7d18c6f3-fef4-4664-8f4c-540e90c76a9e",
   "metadata": {},
   "outputs": [
    {
     "name": "stdout",
     "output_type": "stream",
     "text": [
      "Region            49979\n",
      "Country           49979\n",
      "Item Type         49979\n",
      "Sales Channel     49979\n",
      "Order Priority    49979\n",
      "Order Date        49979\n",
      "Order ID          49979\n",
      "Ship Date         49979\n",
      "Units Sold        49979\n",
      "Unit Price        49979\n",
      "Unit Cost         49979\n",
      "Total Revenue     49979\n",
      "Total Cost        49979\n",
      "Total Profit      49979\n",
      "dtype: int64\n"
     ]
    }
   ],
   "source": [
    "# So now I remove 'NULL' in 'Item Type' which will be the the clean version.\n",
    "\n",
    "CleanSP = CleanSP[CleanSP['Item Type'] != \"NULL\"]\n",
    "print(CleanSP.count())"
   ]
  },
  {
   "cell_type": "code",
   "execution_count": 341,
   "id": "98ef379a-2e24-4ce9-b73f-aec2a0a60176",
   "metadata": {},
   "outputs": [
    {
     "name": "stdout",
     "output_type": "stream",
     "text": [
      "3\n"
     ]
    }
   ],
   "source": [
    "# 3 \n",
    "#'Country' (either missing OR will be a number as a string)\n",
    "# There are 3 erroneous in country values. \n",
    "\n",
    "count = 0\n",
    "for index, row in CleanSP.iterrows():\n",
    "    try:\n",
    "        row.loc['Country'] = float(row.loc['Country'])\n",
    "        count += 1\n",
    "        CleanSP.loc[int(index), 'Country'] = 'NULL'\n",
    "    except:\n",
    "        1==1\n",
    "print(count)"
   ]
  },
  {
   "cell_type": "code",
   "execution_count": 342,
   "id": "b9f93beb-30fc-4a83-b664-db4dfbb43324",
   "metadata": {},
   "outputs": [
    {
     "name": "stdout",
     "output_type": "stream",
     "text": [
      "Region            49976\n",
      "Country           49976\n",
      "Item Type         49976\n",
      "Sales Channel     49976\n",
      "Order Priority    49976\n",
      "Order Date        49976\n",
      "Order ID          49976\n",
      "Ship Date         49976\n",
      "Units Sold        49976\n",
      "Unit Price        49976\n",
      "Unit Cost         49976\n",
      "Total Revenue     49976\n",
      "Total Cost        49976\n",
      "Total Profit      49976\n",
      "dtype: int64\n"
     ]
    }
   ],
   "source": [
    "# So I removed the 'Country' that contain 'NULL'.\n",
    "\n",
    "CleanSP = CleanSP[CleanSP['Country'] != \"NULL\"]\n",
    "print(cleanSP.count())"
   ]
  },
  {
   "cell_type": "code",
   "execution_count": 343,
   "id": "edb90364-124a-4579-a6a9-c28ee605d1ad",
   "metadata": {},
   "outputs": [
    {
     "name": "stdout",
     "output_type": "stream",
     "text": [
      "5\n"
     ]
    }
   ],
   "source": [
    "#4 \n",
    "# Order ID (either missing OR won't be a number)\n",
    "# There are 5 erroneous in country values.\n",
    "\n",
    "count = 0\n",
    "for index, row in CleanSP.iterrows():\n",
    "    try:\n",
    "        # Test if the value is the number\n",
    "        row.loc['Order ID'] = int(row.loc['Order ID'])\n",
    "    except:\n",
    "        CleanSP.loc[int(index), 'Order ID'] = 0\n",
    "        count += 1\n",
    "print(count)"
   ]
  },
  {
   "cell_type": "code",
   "execution_count": 344,
   "id": "a67c170a-4785-4d96-a8f0-820d9563304e",
   "metadata": {},
   "outputs": [
    {
     "name": "stdout",
     "output_type": "stream",
     "text": [
      "Region            49971\n",
      "Country           49971\n",
      "Item Type         49971\n",
      "Sales Channel     49971\n",
      "Order Priority    49971\n",
      "Order Date        49971\n",
      "Order ID          49971\n",
      "Ship Date         49971\n",
      "Units Sold        49971\n",
      "Unit Price        49971\n",
      "Unit Cost         49971\n",
      "Total Revenue     49971\n",
      "Total Cost        49971\n",
      "Total Profit      49971\n",
      "dtype: int64\n"
     ]
    }
   ],
   "source": [
    "# This is where I remove the 'Order ID' that contain 0. \n",
    "\n",
    "CleanSP = CleanSP[CleanSP['Order ID'] != 0]\n",
    "print(CleanSP.count())"
   ]
  },
  {
   "cell_type": "code",
   "execution_count": 345,
   "id": "3bb10c3d-dd85-4008-8e61-6743439e6364",
   "metadata": {},
   "outputs": [
    {
     "name": "stdout",
     "output_type": "stream",
     "text": [
      "0\n"
     ]
    }
   ],
   "source": [
    "# 5\n",
    "# Testing if 'Region' have correct data.\n",
    "# To check if 'Region' if its intergers or floats therefore it is a correct data.\n",
    "\n",
    "count = 0\n",
    "for index, row in CleanSP.iterrows():\n",
    "    try:\n",
    "        row.loc['Region'] = float(row.loc['Region'])\n",
    "        CleanSP.loc[int(index), 'Region'] = 'NULL'\n",
    "        count += 1\n",
    "    except:\n",
    "        1==1\n",
    "print(count)"
   ]
  },
  {
   "cell_type": "code",
   "execution_count": 346,
   "id": "bbe99bde-1f45-4e2f-b901-c381cdb7c61f",
   "metadata": {},
   "outputs": [
    {
     "name": "stdout",
     "output_type": "stream",
     "text": [
      "0\n",
      "['Offline' 'Online']\n",
      "0\n"
     ]
    }
   ],
   "source": [
    "# 6\n",
    "# Testing if 'Sales Channel' have correct data.\n",
    "# Since the result is 0, therefore is has correct data. \n",
    "\n",
    "count = 0\n",
    "for index, row in CleanSP.iterrows():\n",
    "    try:\n",
    "        row.loc['Sales Channel'] = int(row.loc['Sales Channel'])\n",
    "        CleanSP.loc[int(index), 'Sales Channel'] = 'NULL'\n",
    "        count += 1\n",
    "    except:\n",
    "        1==1\n",
    "print(count)\n",
    "\n",
    "x = CleanSP['Sales Channel'].unique()\n",
    "print(x)\n",
    "\n",
    "y = 0\n",
    "for index, row in CleanSP.iterrows():\n",
    "    if row.loc['Sales Channel'] not in (x):\n",
    "        CleanSP.loc['Sales Channel'] = 'NULL'\n",
    "        print(row.loc['Sales Channel'])\n",
    "        y += 1\n",
    "print(y)"
   ]
  },
  {
   "cell_type": "code",
   "execution_count": 347,
   "id": "615a8bdb-964b-4369-98d8-0097f7e8490d",
   "metadata": {},
   "outputs": [
    {
     "name": "stdout",
     "output_type": "stream",
     "text": [
      "0\n"
     ]
    }
   ],
   "source": [
    "#7\n",
    "# Testing if 'Order Date' have correct data.\n",
    "# Since the result is 0, therefore is has correct data\n",
    "\n",
    "count = 0\n",
    "for index, row in CleanSP.iterrows():\n",
    "    try:\n",
    "        row.loc['Order Date'] = float(row.loc['Order Date'])\n",
    "        CleanSP.loc[int(index), 'Order Date'] = 'NULL'\n",
    "        count += 1\n",
    "    except:\n",
    "        1==1\n",
    "print(count)"
   ]
  },
  {
   "cell_type": "code",
   "execution_count": 348,
   "id": "4a09e4af-7630-4c80-83f5-1a0e1a21b15c",
   "metadata": {},
   "outputs": [
    {
     "name": "stdout",
     "output_type": "stream",
     "text": [
      "0\n"
     ]
    }
   ],
   "source": [
    "# 8\n",
    "# Testing if 'Ship Date' have correct data.\n",
    "# Since the result is 0, therefore is has correct data\n",
    "\n",
    "count = 0\n",
    "for index, row in CleanSP.iterrows():\n",
    "    try:\n",
    "        row.loc['Ship Date'] = float(row.loc['Ship Date'])\n",
    "        CleanSP.loc[int(index), 'Ship Date'] = 'NULL'\n",
    "        count += 1\n",
    "    except:\n",
    "        1==1\n",
    "print(count)"
   ]
  },
  {
   "cell_type": "code",
   "execution_count": 349,
   "id": "b8193639-a1de-4127-8b59-ab204c64210c",
   "metadata": {},
   "outputs": [
    {
     "name": "stdout",
     "output_type": "stream",
     "text": [
      "0\n"
     ]
    }
   ],
   "source": [
    "# 9\n",
    "# Testing if 'Unit Sold' have correct data.\n",
    "# Since the result is 0, therefore is has correct data\n",
    "\n",
    "count = 0\n",
    "for index, row in CleanSP.iterrows():\n",
    "    try:\n",
    "        # Test if the value is the number\n",
    "        row.loc['Units Sold'] = int(row.loc['Units Sold'])\n",
    "    except:\n",
    "        CleanSP.loc[int(index), 'Units Sold'] = 0\n",
    "        count += 1\n",
    "print(count)"
   ]
  },
  {
   "cell_type": "code",
   "execution_count": 350,
   "id": "837b916c-0112-4843-b2d4-8b85aa79a341",
   "metadata": {},
   "outputs": [
    {
     "name": "stdout",
     "output_type": "stream",
     "text": [
      "0\n"
     ]
    }
   ],
   "source": [
    "# 10\n",
    "# Testing if 'Unit Price' have correct data.\n",
    "# Since the result is 0, therefore is has correct data\n",
    "\n",
    "count = 0\n",
    "for index, row in CleanSP.iterrows():\n",
    "    try:\n",
    "        # Test if the value is the number\n",
    "        row.loc['Unit Price'] = float(row.loc['Unit Price'])\n",
    "    except:\n",
    "        CleanSP.loc[int(index), 'Units Price'] = 0.0\n",
    "        count += 1\n",
    "print(count)"
   ]
  },
  {
   "cell_type": "code",
   "execution_count": 351,
   "id": "42d6fb75-0d25-40b1-ad53-06ca0d0b6470",
   "metadata": {},
   "outputs": [
    {
     "name": "stdout",
     "output_type": "stream",
     "text": [
      "0\n"
     ]
    }
   ],
   "source": [
    "# 11\n",
    "# Testing if 'Unit Cost' have correct data.\n",
    "# Since the result is 0, therefore is has correct data\n",
    "\n",
    "count = 0\n",
    "for index, row in CleanSP.iterrows():\n",
    "    try:\n",
    "        row.loc['Unit Cost'] = float(row.loc['Unit Cost'])\n",
    "    except:\n",
    "        CleanSP.loc[int(index), 'Unit Cost'] = 0\n",
    "        count += 1\n",
    "print(count)"
   ]
  },
  {
   "cell_type": "code",
   "execution_count": 352,
   "id": "51b5fe3b-9951-4e26-850f-1fe6ca8e1d6c",
   "metadata": {},
   "outputs": [
    {
     "name": "stdout",
     "output_type": "stream",
     "text": [
      "0\n"
     ]
    }
   ],
   "source": [
    "# 12\n",
    "# Testing if 'Total Revenue' have correct data.\n",
    "# Since the result is 0, therefore is has correct data\n",
    "'''\n",
    "I tested the 'Total Revenue' if there is inaccurate data and change to 0.0.\n",
    "However, I found no inaccurrate data in that column. *\n",
    "'''\n",
    "count = 0\n",
    "for index, row in CleanSP.iterrows():\n",
    "    try:\n",
    "        # Test if the value is the number\n",
    "        row.loc['Total Revenue'] = float(row.loc['Total Revenue'])\n",
    "    except:\n",
    "        CleanSP.loc[int(index), 'Total Revenue'] = 0.0\n",
    "        count += 1\n",
    "print(count)"
   ]
  },
  {
   "cell_type": "code",
   "execution_count": 353,
   "id": "1535b7ca-59cd-4c80-871d-395f9a1efdd3",
   "metadata": {},
   "outputs": [
    {
     "name": "stdout",
     "output_type": "stream",
     "text": [
      "0\n"
     ]
    }
   ],
   "source": [
    "# 13\n",
    "# Testing if 'Total Cost' have correct data.\n",
    "# Since the result is 0, therefore is has correct data\n",
    "count = 0\n",
    "for index, row in CleanSP.iterrows():\n",
    "    try:\n",
    "        # Test if the value is the number\n",
    "        row.loc['Total Cost'] = float(row.loc['Total Cost'])\n",
    "    except:\n",
    "        CleanSP.loc[int(index), 'Total Cost'] = 0.0\n",
    "        count += 1\n",
    "print(count)"
   ]
  },
  {
   "cell_type": "code",
   "execution_count": 354,
   "id": "85805f3b-4798-4f16-9dcc-a70484f005bb",
   "metadata": {},
   "outputs": [
    {
     "name": "stdout",
     "output_type": "stream",
     "text": [
      "0\n"
     ]
    }
   ],
   "source": [
    "#14\n",
    "# Testing if 'Total Profit' have correct data.\n",
    "# Since the result is 0, therefore is has correct data\n",
    "\n",
    "count = 0\n",
    "for index, row in CleanSP.iterrows():\n",
    "    try:\n",
    "        # Test if the value is the number\n",
    "        row.loc['Total Profit'] = float(row.loc['Total Profit'])\n",
    "    except:\n",
    "        CleanSP.loc[int(index), 'Total Profit'] = 0.0\n",
    "        count += 1\n",
    "print(count)"
   ]
  },
  {
   "cell_type": "code",
   "execution_count": 355,
   "id": "a428abd6-082e-453a-b83d-abddeea7f1a5",
   "metadata": {},
   "outputs": [],
   "source": [
    "# Write a clean version of the csv file version that is call 'MM_Sales_clean.csv'\n",
    "\n",
    "CleanSP.to_csv('Data/MM_Sales_clean.csv', index=False)\n"
   ]
  },
  {
   "cell_type": "markdown",
   "id": "ed421e19-efd0-4783-9289-d7e45e020d06",
   "metadata": {},
   "source": [
    "### Part 2: Exploratory Data Analysis with Reports & Visualizations\n",
    " "
   ]
  },
  {
   "cell_type": "code",
   "execution_count": 356,
   "id": "d233e294-e3dd-431f-b67e-00b963e88290",
   "metadata": {},
   "outputs": [],
   "source": [
    "# First you have to read the data file before doing anyhting else. \n",
    "\n",
    "salesC = pd.read_csv('Data/MM_Sales_clean.csv')"
   ]
  },
  {
   "cell_type": "markdown",
   "id": "af470319-ede8-4966-8c27-c900199cb3a6",
   "metadata": {},
   "source": [
    "## 1).Countries Ranking"
   ]
  },
  {
   "cell_type": "markdown",
   "id": "7645574a-f6e8-4378-8975-7d8401aaa9d8",
   "metadata": {},
   "source": [
    "#### A). Use Seaborn or Matplotlib to create a chart of your choice showing these top 10 values by country."
   ]
  },
  {
   "cell_type": "code",
   "execution_count": 357,
   "id": "5e2df4d9-7b36-4c4c-83c0-80b6ec296508",
   "metadata": {},
   "outputs": [],
   "source": [
    "# This is the csv file that I be using from now on.\n",
    "\n",
    "salesC = pd.read_csv('Data/MM_Sales_clean.csv', sep=',')\n"
   ]
  },
  {
   "cell_type": "code",
   "execution_count": 358,
   "id": "b0f0f23b-4fbb-4702-83d5-3a9df05a4126",
   "metadata": {},
   "outputs": [],
   "source": [
    "# Firstly, I am counting the number of rows in 'Country'.\n",
    "# Secondly, sorting it out by order from higher values to lower.\n",
    "# Lastly, I grab the top 10 countries.\n",
    "\n",
    "Countries = salesC.groupby('Country')['Order Priority'].count()\n",
    "Countries = Countries.sort_values(ascending=False)\n",
    "topCountries = {}\n",
    "count = 0\n",
    "for index, value in Countries[0:10].iteritems():\n",
    "    topCountries[index] = value"
   ]
  },
  {
   "cell_type": "code",
   "execution_count": 359,
   "id": "eded782e-60e9-486a-a654-61047fb1f105",
   "metadata": {},
   "outputs": [
    {
     "data": {
      "image/png": "[encoded data removed]",
      "text/plain": [
       "<Figure size 1440x360 with 1 Axes>"
      ]
     },
     "metadata": {},
     "output_type": "display_data"
    }
   ],
   "source": [
    "# Creating the barplot graph that tell us about the top 10 countries with how much sales they have. \n",
    "\n",
    "plt.figure(figsize=(20,5))\n",
    "plt.bar(topCountries.keys(), topCountries.values(), color='purple')\n",
    "plt.title('Top 10 Countries', fontsize=15)\n",
    "plt.xlabel('Country', fontsize=15)\n",
    "ax= plt.subplot()\n",
    "plt.setp(ax.get_xticklabels(), rotation=20, ha='right') \n",
    "plt.ylabel('Sales', fontsize=15)\n",
    "for i, v in enumerate(topCountries.values()):\n",
    "    ax.text(i, v + 4, str(v), color='black')\n",
    "plt.show()"
   ]
  },
  {
   "cell_type": "markdown",
   "id": "d6d63377-2137-408a-a86d-66ae99e7d959",
   "metadata": {},
   "source": [
    "#### B). Write the results to a text file called MM_Rankings.txt.\n"
   ]
  },
  {
   "cell_type": "code",
   "execution_count": 360,
   "id": "2f5eb1da-ab7a-4a0c-8ef4-3fe5d26a6685",
   "metadata": {},
   "outputs": [],
   "source": [
    "# Writing the result to a new text file that is call 'MM_Rankings.txt'\n",
    "\n",
    "with open ('Data/MM_Rankings.txt', 'w+') as writer:\n",
    "    writer.write('Countries Most Sale Transactions:\\n')\n",
    "couRan = ['Trinidad and Tobago: 321\\n',\n",
    "            'Guinea: 318\\n',\n",
    "            'Cape Verde: 314\\n',\n",
    "            'Maldives: 311\\n',\n",
    "            'Finland: 310\\n',\n",
    "            'Democratic Republic of the Congo: 308\\n',\n",
    "            'Samoa: 306\\n',\n",
    "            'Malta: 305\\n',\n",
    "            'China: 303\\n',\n",
    "            'South Sudan: 302\\n\\n'\n",
    "]\n",
    "with open ('Data/MM_Rankings.txt', 'a+') as writer:\n",
    "    writer.writelines(couRan)\n",
    "    \n",
    "comment = ('Cape Verder would be best country to built our shipping center which is the third countries with the most sales.\\n\\n')\n",
    "with open ('Data/MM_Rankings.txt', 'a+') as writer:\n",
    "    writer.writelines(comment)\n"
   ]
  },
  {
   "cell_type": "markdown",
   "id": "edf8464e-be33-4068-bd1d-c669db4131df",
   "metadata": {},
   "source": [
    "### 2. Counting the Order Priorities and Sales Channel"
   ]
  },
  {
   "cell_type": "markdown",
   "id": "13028b00-c434-4855-a510-fa6b33e6ef5e",
   "metadata": {},
   "source": [
    "#### A).Determine the count for how many online and offline orders we take."
   ]
  },
  {
   "cell_type": "code",
   "execution_count": 361,
   "id": "d256a5e0-fe04-4185-a365-cedbf3f084ac",
   "metadata": {},
   "outputs": [
    {
     "name": "stdout",
     "output_type": "stream",
     "text": [
      "Sales and Counts\n",
      "Online     30185\n",
      "Offline    19791\n",
      "Name: Sales Channel, dtype: int64\n"
     ]
    }
   ],
   "source": [
    "# This is where I find how many online and offline on the Sales Channel there are. \n",
    "\n",
    "sChan = cleanSP['Sales Channel'].value_counts()\n",
    "print('Sales and Counts')\n",
    "print(sChan)"
   ]
  },
  {
   "cell_type": "markdown",
   "id": "09b149be-6877-45f6-9587-ff4b86ec4e8b",
   "metadata": {},
   "source": [
    "#### B). Determine the count of the different Order Priority types."
   ]
  },
  {
   "cell_type": "code",
   "execution_count": 362,
   "id": "dfe53b7d-6079-4e57-864d-d18abfc74560",
   "metadata": {},
   "outputs": [
    {
     "name": "stdout",
     "output_type": "stream",
     "text": [
      "Order Priority\n",
      "C     5012\n",
      "H    15097\n",
      "L     9985\n",
      "M    19882\n",
      "Name: Order Priority, dtype: int64\n"
     ]
    }
   ],
   "source": [
    "# There are only four catagories in C, H, L and M. \n",
    "\n",
    "orderPr = cleanSP.groupby(['Order Priority'])['Order Priority'].count()\n",
    "print(orderPr)"
   ]
  },
  {
   "cell_type": "markdown",
   "id": "ab1af84c-4212-481a-bc4f-820f63137731",
   "metadata": {},
   "source": [
    "#### C).Create a pie chart for each showing the differences in values (use Seaborn or Matplotlib)."
   ]
  },
  {
   "cell_type": "code",
   "execution_count": 363,
   "id": "980c067e-75bc-47e5-acb6-56e503cecf7d",
   "metadata": {},
   "outputs": [
    {
     "data": {
      "image/png": "[encoded data removed]",
      "text/plain": [
       "<Figure size 576x576 with 1 Axes>"
      ]
     },
     "metadata": {},
     "output_type": "display_data"
    }
   ],
   "source": [
    "# I created pie chart for Sales Channel. \n",
    "\n",
    "plt.figure(figsize=(8,8))\n",
    "plt.pie(sChan, labels=sChan.index, shadow=True, autopct='%.2f') \n",
    "plt.axis('equal')\n",
    "plt.legend(loc=4, title='Sales Channel') \n",
    "plt.show()"
   ]
  },
  {
   "cell_type": "code",
   "execution_count": 364,
   "id": "d42a0654-b093-4a3d-b5d8-8309a906e95e",
   "metadata": {},
   "outputs": [
    {
     "data": {
      "image/png": "[encoded data removed]",
      "text/plain": [
       "<Figure size 576x576 with 1 Axes>"
      ]
     },
     "metadata": {},
     "output_type": "display_data"
    }
   ],
   "source": [
    "# So I created pie chart for the Order Priority.\n",
    "\n",
    "plt.figure(figsize=(8, 8))\n",
    "plt.pie(orderPr, labels=orderPr.index, shadow=True, autopct='%.2f')\n",
    "plt.axis('equal')  \n",
    "plt.legend(loc=4, title='Order Priority')\n",
    "plt.show()"
   ]
  },
  {
   "cell_type": "markdown",
   "id": "bf5de821-2398-438a-85ee-a243eab9e892",
   "metadata": {},
   "source": [
    "#### D). Add the results of the highest sales channel type and the highest order priority to the file MM_Rankings.txt."
   ]
  },
  {
   "cell_type": "code",
   "execution_count": 365,
   "id": "f935fe07-5abd-44ed-b4c0-a2d030d46f8e",
   "metadata": {},
   "outputs": [],
   "source": [
    "# Creating a new text file and writing the result into the text file call \"MM_Rankings.txt\"\n",
    "\n",
    "with open('Data/MM_Rankings.txt', 'a+') as writer:\n",
    "    writer.write('Highest sales channel type and the highest order priority:\\n')\n",
    "    \n",
    "saleChannel= ('Sales Channels:\\nOnline: 30183\\nOffline: 19788\\nWe do more online sales.\\n')\n",
    "with open ('data/MM_Rankings.txt', 'a+') as writer:\n",
    "    writer.writelines(saleChannel)\n",
    "orderPriority = ('Order Priorities:\\nL: 9984\\nM: 19881\\nH: 15094\\nC: 5012\\nWe do more M: Medium order priorities.\\n')\n",
    "with open ('data/MM_Rankings.txt', 'a+') as writer:\n",
    "    writer.writelines(orderPriority)"
   ]
  },
  {
   "cell_type": "markdown",
   "id": "d6c76e5a-6c43-4a47-a793-c5220289ad44",
   "metadata": {},
   "source": [
    "### 3).For our next section, we will need you to give us an idea of how well our Item Types are producing profits for us. At the end, report to us which 3 item types are providing the most profit."
   ]
  },
  {
   "cell_type": "markdown",
   "id": "2ece61da-c3a1-4418-ae92-3f547551a138",
   "metadata": {},
   "source": [
    "#### A). Create a Boxplot using Seaborn showing the Total Profits DISTRIBUTION by Item Type."
   ]
  },
  {
   "cell_type": "code",
   "execution_count": 366,
   "id": "fe9444bc-9472-4c29-951e-451279562eaf",
   "metadata": {},
   "outputs": [
    {
     "data": {
      "image/png": "[encoded data removed]",
      "text/plain": [
       "<Figure size 1440x720 with 1 Axes>"
      ]
     },
     "metadata": {},
     "output_type": "display_data"
    }
   ],
   "source": [
    "# Creating a boxplot using Seaborn showing the Total Profits by the Item Type. \n",
    "# The boxplot show the first quartile, third quartile, meadian, max and minimum. \n",
    "\n",
    "plt.figure(figsize=(20, 10))\n",
    "bxPlot = sns.boxplot(CleanSP['Item Type'], CleanSP['Total Profit'])"
   ]
  },
  {
   "cell_type": "markdown",
   "id": "2eb4e7d8-77d5-4661-9c46-76b6b3188c38",
   "metadata": {},
   "source": [
    "#### B). Use Python to determine the sum of Total Profit by Item Type."
   ]
  },
  {
   "cell_type": "code",
   "execution_count": 367,
   "id": "e95f5339-81d9-4e51-93be-963369cd268c",
   "metadata": {},
   "outputs": [
    {
     "name": "stdout",
     "output_type": "stream",
     "text": [
      "Item Type\n",
      "Baby Food         1942865748.120\n",
      "Beverages          327559249.080\n",
      "Cereal            1824726412.290\n",
      "Clothes           1520832019.680\n",
      "Cosmetics         3638407966.750\n",
      "Fruits              51010570.920\n",
      "Household         3401180998.060\n",
      "Meat              1196342404.400\n",
      "Office Supplies   2605440187.500\n",
      "Personal Care      535250525.600\n",
      "Snacks            1149715758.720\n",
      "Vegetables        1322639660.240\n",
      "Name: Total Profit, dtype: float64\n"
     ]
    }
   ],
   "source": [
    "totalSum = CleanSP.groupby(['Item Type'])['Total Profit'].sum()\n",
    "print(totalSum)"
   ]
  },
  {
   "cell_type": "markdown",
   "id": "3c6d1f31-a2a9-485f-9b11-43488af5d378",
   "metadata": {},
   "source": [
    "#### C). Now create a chart type of your choice (Seaborn or Matplotlib) showing the sums of the different Item Types."
   ]
  },
  {
   "cell_type": "code",
   "execution_count": 368,
   "id": "0f7f1da3-c7e6-4cf4-88ec-d0e57b6a0306",
   "metadata": {},
   "outputs": [
    {
     "data": {
      "image/png": "[encoded data removed]",
      "text/plain": [
       "<Figure size 1440x720 with 1 Axes>"
      ]
     },
     "metadata": {},
     "output_type": "display_data"
    }
   ],
   "source": [
    "# Created a bar plot which show the total sum of different Item types using the \"barplot\" code.\n",
    "\n",
    "plt.figure(figsize=(20, 10))\n",
    "sns.set(style='whitegrid')\n",
    "bP = sns.barplot(totalSum.index, totalSum)"
   ]
  },
  {
   "cell_type": "markdown",
   "id": "7e3ebfe2-afba-4604-8d7e-6349d54e9777",
   "metadata": {},
   "source": [
    "#### D). Now, using Python, rank the top 3 item types we did the most sales (brought in most profit) in to the least sales. (Use 'Total Profit' to determine this).  Please list the item types and the amount of profit made from sales."
   ]
  },
  {
   "cell_type": "code",
   "execution_count": 369,
   "id": "721d106b-40a0-4027-9a98-a644fbecdbe0",
   "metadata": {},
   "outputs": [
    {
     "name": "stdout",
     "output_type": "stream",
     "text": [
      "Item Type\n",
      "Cosmetics         3638407966.750\n",
      "Household         3401180998.060\n",
      "Office Supplies   2605440187.500\n",
      "Name: Total Profit, dtype: float64\n"
     ]
    }
   ],
   "source": [
    "# I find the top 3 rank of the total profits so meaning it has the highest one. \n",
    "\n",
    "rankTop3 = CleanSP['Total Profit'].groupby(CleanSP['Item Type']).sum().nlargest(3)\n",
    "print(rankTop3)"
   ]
  },
  {
   "cell_type": "markdown",
   "id": "412dcc3b-5143-4375-9d85-6dafab137910",
   "metadata": {},
   "source": [
    "#### E). Add the results of the top 3 item types to the file MM_Rankings.txt."
   ]
  },
  {
   "cell_type": "code",
   "execution_count": 370,
   "id": "7bf271e0-4355-44ec-89e1-db9fd307237d",
   "metadata": {},
   "outputs": [],
   "source": [
    "# Writing the result of the top 3 rank in the \"MM_Rankings.txt\"\n",
    "\n",
    "highestSell = ('Highest Selling Items:\\nCosmetics: 3638407966.750\\nHousehold: 3401180998.06\\nOffice Supplies: 2605440187.50\\nWe profited from Cosmetics the most.\\n\\n')\n",
    "with open ('Data/MM_Rankings.txt', 'a+') as writer:\n",
    "    writer.writelines(highestSell)\n"
   ]
  },
  {
   "cell_type": "markdown",
   "id": "858de230-1078-43a1-bb36-ac4d1855c019",
   "metadata": {},
   "source": [
    "#### F). Provide a markdown section discussing the results of the boxplots. Discuss what is being shown in the boxplots amd do some business analytics around what sort of use this sort of chart might help in making decisions. Are there any unexpected results? Discuss them."
   ]
  },
  {
   "cell_type": "markdown",
   "id": "7dbd9cdc-44f2-4678-968e-d7552f0a6ec0",
   "metadata": {},
   "source": [
    "The boxplot does have alot of detail in terms of business analytics. As a businesss analytics, when looking the maximum total profits you can make decision by whether you should still sell that item type or not. For example fruits and beverages which has the less maximum total profits. Also more marketing need to be done with Item types on fruits and beverages. \n",
    "\n",
    "As you can the household and comestics item types which has the most maximum total profits which tells me that there no need for improve however we need to keep it stable and avoid cahnges because it might effect the profits.\n",
    "\n"
   ]
  },
  {
   "cell_type": "markdown",
   "id": "45d4aeda-272f-4569-83b8-736c5ad7d9ba",
   "metadata": {},
   "source": [
    "#### 4). Please determine the sum, average and maximum values for the Units Sold, Unit Cost, Total Revenue, Total Cost and Total Profit. Please put this in a report."
   ]
  },
  {
   "cell_type": "markdown",
   "id": "62bebd9d-62cd-4b03-894d-7d1036dc298b",
   "metadata": {},
   "source": [
    "#### A). Produce the data above for the sum of the requested columns."
   ]
  },
  {
   "cell_type": "code",
   "execution_count": 371,
   "id": "c667d016-235b-40a6-aaa7-3b5353c398b5",
   "metadata": {},
   "outputs": [
    {
     "name": "stdout",
     "output_type": "stream",
     "text": [
      "Units Sold        249818150.000\n",
      "Unit Cost           9360768.320\n",
      "Total Revenue   66145004417.170\n",
      "Total Cost      46629032915.810\n",
      "Total Profit    19515971501.360\n",
      "dtype: float64\n"
     ]
    }
   ],
   "source": [
    "# Calculating the total sum values for Units sold, Unit Cost, Total Revenue, Total, Cost and Total Profit. \n",
    "# Using 'sum' code to calculate total. \n",
    "\n",
    "sumColumn = ['Units Sold', 'Unit Cost', 'Total Revenue', 'Total Cost', 'Total Profit']\n",
    "sum_totalPrice = CleanSP[sumColumn].sum()\n",
    "print(sum_totalPrice)"
   ]
  },
  {
   "cell_type": "markdown",
   "id": "641c3128-e050-469d-b695-2e69e2cdd7e7",
   "metadata": {},
   "source": [
    "#### B). Produce the data above for the average of the requested columns. (Average Units Sold, Average Cost, etc)"
   ]
  },
  {
   "cell_type": "code",
   "execution_count": 372,
   "id": "d2e3764b-0f7e-452f-9ff8-83a183281926",
   "metadata": {},
   "outputs": [
    {
     "name": "stdout",
     "output_type": "stream",
     "text": [
      "Units Sold         4999.263\n",
      "Unit Cost           187.324\n",
      "Total Revenue   1323667.816\n",
      "Total Cost       933121.869\n",
      "Total Profit     390545.947\n",
      "dtype: float64\n"
     ]
    }
   ],
   "source": [
    "# Calculating the average which I have to use the code 'mean'. \n",
    "\n",
    "averPrice = CleanSP[sumColumn].mean()\n",
    "print(averPrice)"
   ]
  },
  {
   "cell_type": "markdown",
   "id": "6f171188-19fd-4373-aee1-6a1c66b47e68",
   "metadata": {},
   "source": [
    "#### C). Produce the data above for the maximum of the requested columns. (Max Units Sold, Max Cost, etc.)"
   ]
  },
  {
   "cell_type": "code",
   "execution_count": 373,
   "id": "b8c40df4-7c3d-43f3-b859-618f0d4024c7",
   "metadata": {},
   "outputs": [
    {
     "name": "stdout",
     "output_type": "stream",
     "text": [
      "Units Sold        10000.000\n",
      "Unit Cost           524.960\n",
      "Total Revenue   6682031.730\n",
      "Total Cost      5249075.040\n",
      "Total Profit    1738178.390\n",
      "dtype: float64\n"
     ]
    }
   ],
   "source": [
    "# Calculating the maximum values so I use the code 'max' to find it. \n",
    "\n",
    "maxPrice = CleanSP[sumColumn].max()\n",
    "print(maxPrice)"
   ]
  },
  {
   "cell_type": "markdown",
   "id": "d63e87e5-844b-4233-bbf3-798a04dd8e43",
   "metadata": {},
   "source": [
    "#### D). Create two line plots using Seaborn or Matplotlib, one for the sums and one for both the averages and the maximums. DO NOT INCLUDE UNITS SOLD OR UNITS COST."
   ]
  },
  {
   "cell_type": "code",
   "execution_count": 374,
   "id": "e2036220-fc3b-443b-9143-db65db96963a",
   "metadata": {},
   "outputs": [
    {
     "data": {
      "image/png": "[encoded data removed]",
      "text/plain": [
       "<Figure size 1080x720 with 1 Axes>"
      ]
     },
     "metadata": {},
     "output_type": "display_data"
    },
    {
     "name": "stdout",
     "output_type": "stream",
     "text": [
      "\n",
      "\n"
     ]
    }
   ],
   "source": [
    "# Finding the sum, average and maximum in the column list that I make which is Total Revunue, Total Cost, and Total Profit. \n",
    "\n",
    "column = ['Total Revenue', 'Total Cost', 'Total Profit']\n",
    "\n",
    "maxPrice1 = CleanSP[column].max()\n",
    "averPrice1 = CleanSP[column].mean()\n",
    "totalPrice1 = CleanSP[column].sum()\n",
    "\n",
    "plt.figure(figsize=(15, 10))\n",
    "plt.plot(totalPrice1.index, totalPrice1, color='purple')\n",
    "plt.title('Sums of Total Revenue, Cost and Profit')\n",
    "plt.xlabel('Total Type')\n",
    "plt.ylabel('Total in Value')\n",
    "plt.show()\n",
    "\n",
    "print('\\n')"
   ]
  },
  {
   "cell_type": "code",
   "execution_count": 375,
   "id": "79d4ce3c-090f-403e-94ce-30bf225b4329",
   "metadata": {},
   "outputs": [
    {
     "data": {
      "image/png": "[encoded data removed]",
      "text/plain": [
       "<Figure size 1080x720 with 1 Axes>"
      ]
     },
     "metadata": {},
     "output_type": "display_data"
    }
   ],
   "source": [
    "# The red line on the graph is defined as the average and the blue is defined as the maximum. \n",
    "\n",
    "plt.figure(figsize=(15, 10))\n",
    "plt.plot(averPrice1.index, averPrice1, color='red')\n",
    "plt.plot(maxPrice1.index, maxPrice1)\n",
    "plt.title('Averages and Maximum of Total Revenue, Cost and Profit')\n",
    "plt.xlabel('Total Type')\n",
    "plt.ylabel('Total Value')\n",
    "plt.show()"
   ]
  },
  {
   "cell_type": "markdown",
   "id": "87e2c5f5-d506-4a2e-9d6e-f8d135e31d62",
   "metadata": {},
   "source": [
    "#### E).Now you will save these calculations below to a text file called MM_Calc.txt. "
   ]
  },
  {
   "cell_type": "code",
   "execution_count": 376,
   "id": "4f35d571-ec91-48c8-bdba-1f4b9149394c",
   "metadata": {},
   "outputs": [],
   "source": [
    "# Saving the calculations I did to a text file call 'MM_Calc.txt'\n",
    "# So I have to open the file and write it into the file. \n",
    "# Using 'w+' to create and write into a new file. \n",
    "# Using 'a+' to write or to append into that file. \n",
    "\n",
    "totalSum = ('Sums:\\nUnits Sold: 249818150.000\\n'\n",
    "            'Unit Cost: 9360768.320\\n'\n",
    "            'Total Revenue: 66145004417.170\\n'\n",
    "            'Total Cost: 46629032915.810\\n'\n",
    "            'Total Profit: 19515971501.360\\n\\n')\n",
    "\n",
    "with open ('Data/MM_Calc.txt', 'w+') as writer:\n",
    "    writer.write(totalSum)\n",
    "\n",
    "totalAverage = ('Averages:\\nUnits Sold: 4999.263\\n'\n",
    "                'Unit Cost: 187.324\\n'\n",
    "               'Total Revenue: 1323667.826\\n'\n",
    "               'Total Cost: 933121.879\\n'\n",
    "               'Total Profit: 390545.957\\n\\n')\n",
    "with open ('Data/MM_Calc.txt', 'a+') as writer:\n",
    "    writer.writelines(totalAverage)\n",
    "\n",
    "totalMaximum = ('Maximums:\\nUnits Sold: 10000.000\\n'\n",
    "               'Unit Cost: 524.960\\n'\n",
    "               'Total Revenue: 6682031.730\\n'\n",
    "               'Total Cost: 5249075.040\\n'\n",
    "               'Total Profit: 1738178.390\\n')\n",
    "with open ('Data/MM_Calc.txt', 'a+') as writer:\n",
    "    writer.writelines(totalMaximum)"
   ]
  },
  {
   "cell_type": "markdown",
   "id": "99aaf9c8-451f-4d10-b785-5d5e2061f025",
   "metadata": {},
   "source": [
    "#### Part 3: Cross-Reference Statistics\n"
   ]
  },
  {
   "cell_type": "markdown",
   "id": "f7f5a0b4-c219-4434-b534-b2bc470637a2",
   "metadata": {},
   "source": [
    "#### A)"
   ]
  },
  {
   "cell_type": "code",
   "execution_count": 377,
   "id": "e9237fe4-8647-4640-b58a-6cac3fad545a",
   "metadata": {},
   "outputs": [
    {
     "name": "stdout",
     "output_type": "stream",
     "text": [
      "Sub-Saharan Africa: {'Cameroon', 'Ghana', 'Nigeria', 'Mozambique', 'Niger', 'Comoros', 'Republic of the Congo', 'Liberia', 'Senegal', 'Rwanda', 'Gabon', 'Botswana', 'Angola', 'Burkina Faso', 'Chad', 'Equatorial Guinea', 'Sudan', 'Central African Republic', 'South Africa', 'Togo', 'Eritrea', 'Cape Verde', 'Benin', 'Kenya', 'Tanzania', 'Guinea', 'Sierra Leone', 'Swaziland', 'Sao Tome and Principe', 'Madagascar', 'Ethiopia', 'The Gambia', 'Mali', 'Namibia', 'Burundi', 'Zimbabwe', 'Lesotho', 'Seychelles ', 'Zambia', 'Guinea-Bissau', 'Mauritania', \"Cote d'Ivoire\", 'Djibouti', 'South Sudan', 'Mauritius ', 'Uganda', 'Democratic Republic of the Congo', 'Malawi'}\n",
      "Europe: {'France', 'Bosnia and Herzegovina', 'Ukraine', 'United Kingdom', 'Vatican City', 'Macedonia', 'Portugal', 'Denmark', 'Cyprus', 'Romania', 'Germany', 'Liechtenstein', 'San Marino', 'Estonia', 'Iceland', 'Sweden', 'Italy', 'Russia', 'Moldova ', 'Austria', 'Hungary', 'Ireland', 'Switzerland', 'Spain', 'Andorra', 'Norway', 'Croatia', 'Netherlands', 'Georgia', 'Malta', 'Lithuania', 'Montenegro', 'Greece', 'Monaco', 'Belarus', 'Serbia', 'Czech Republic', 'Slovakia', 'Slovenia', 'Poland', 'Kosovo', 'Latvia', 'Luxembourg', 'Finland', 'Armenia', 'Albania', 'Bulgaria', 'Belgium'}\n",
      "Asia: {'Indonesia', 'Singapore', 'Maldives', 'Uzbekistan', 'Mongolia', 'Vietnam', 'China', 'India', 'Tajikistan', 'Malaysia', 'Taiwan', 'Japan', 'Cambodia', 'Nepal', 'Thailand', 'Kazakhstan', 'Sri Lanka', 'South Korea', 'Bangladesh', 'North Korea', 'Myanmar', 'Brunei', 'Bhutan', 'Philippines', 'Laos', 'Turkmenistan', 'Kyrgyzstan'}\n",
      "Middle East and North Africa: {'Saudi Arabia', 'Kuwait', 'Lebanon', 'Egypt', 'Libya', 'Bahrain', 'Pakistan', 'Israel', 'Turkey', 'Syria', 'Tunisia ', 'Qatar', 'Iran', 'Azerbaijan', 'Somalia', 'Afghanistan', 'United Arab Emirates', 'Iraq', 'Morocco', 'Yemen', 'Oman', 'Algeria', 'Jordan'}\n",
      "Central America and the Caribbean: {'Saint Kitts and Nevis ', 'Panama', 'Costa Rica', 'Guatemala', 'Jamaica', 'Saint Lucia', 'Belize', 'The Bahamas', 'Trinidad and Tobago', 'Haiti', 'Dominican Republic', 'Barbados', 'Antigua and Barbuda ', 'Cuba', 'Dominica', 'Nicaragua', 'Saint Vincent and the Grenadines', 'Honduras', 'Grenada', 'El Salvador'}\n",
      "Australia and Oceania: {'Nauru', 'Papua New Guinea', 'New Zealand', 'Fiji', 'Kiribati', 'Marshall Islands', 'Samoa ', 'Tonga', 'East Timor', 'Federated States of Micronesia', 'Solomon Islands', 'Palau', 'Tuvalu', 'Australia', 'Vanuatu'}\n",
      "North America: {'Greenland', 'United States of America', 'Mexico', 'Canada'}\n"
     ]
    }
   ],
   "source": [
    "# By creating an empty dictionaries, using if, else statement to create the 'Region' and loop throught all of it using the for loop.\n",
    "\n",
    "dicRegions = {}\n",
    "for index, row in CleanSP.iterrows():\n",
    "    if row.loc['Region'] in dicRegions:\n",
    "        dicRegions[row.loc['Region']].add(row.loc['Country'])\n",
    "    else:\n",
    "        dicRegions[row.loc['Region']] = set()\n",
    "        dicRegions[row.loc['Region']].add(row.loc['Country'])\n",
    "\n",
    "for key in dicRegions.keys():\n",
    "    print(\"{}: {}\".format(key, dicRegions.get(key)))\n",
    "    \n"
   ]
  },
  {
   "cell_type": "markdown",
   "id": "16a98d81-a845-4484-825d-4e81c77bb2bb",
   "metadata": {},
   "source": [
    "#### B)"
   ]
  },
  {
   "cell_type": "code",
   "execution_count": 378,
   "id": "39174ac4-411a-410c-b2b4-5963f2f84507",
   "metadata": {},
   "outputs": [],
   "source": [
    "# Creating an empty dictionaries so that I could grab and loop throught the Countries by Region. \n",
    "\n",
    "country = dicRegions.values()\n",
    "\n",
    "with open('Data/Countries_By_Region.csv','w+') as cvs_file:\n",
    "    writer = csv.writer(cvs_file)\n",
    "    writer.writerow(dicRegions.keys())\n",
    "    for values in zip_longest(*country):     \n",
    "        writer.writerow(values)"
   ]
  }
 ],
 "metadata": {
  "kernelspec": {
   "display_name": "Python 3 (ipykernel)",
   "language": "python",
   "name": "python3"
  },
  "language_info": {
   "codemirror_mode": {
    "name": "ipython",
    "version": 3
   },
   "file_extension": ".py",
   "mimetype": "text/x-python",
   "name": "python",
   "nbconvert_exporter": "python",
   "pygments_lexer": "ipython3",
   "version": "3.9.7"
  }
 },
 "nbformat": 4,
 "nbformat_minor": 5
}
